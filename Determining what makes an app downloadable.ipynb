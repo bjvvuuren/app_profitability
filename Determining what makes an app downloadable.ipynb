{
 "metadata": {
  "language_info": {
   "codemirror_mode": {
    "name": "ipython",
    "version": 3
   },
   "file_extension": ".py",
   "mimetype": "text/x-python",
   "name": "python",
   "nbconvert_exporter": "python",
   "pygments_lexer": "ipython3",
   "version": "3.8.5-final"
  },
  "orig_nbformat": 2,
  "kernelspec": {
   "name": "python3",
   "display_name": "Python 3.8.5 64-bit ('base': conda)",
   "metadata": {
    "interpreter": {
     "hash": "d54f36650e22a68b1e16ad067c04252fc93b1d0cce2a522804985f8fa0dd3c9b"
    }
   }
  }
 },
 "nbformat": 4,
 "nbformat_minor": 2,
 "cells": [
  {
   "source": [
    "# Determining what makes an app downloadable\n",
    "\n",
    "In most cases, be it in-app purchases or paid apps, the amount of downloads corrisponds to profitability. The aim of this project is to find that data points that affect downloadability so that those who would like to endevour to make their own apps can analyse what they need to include to maximise downloadability"
   ],
   "cell_type": "markdown",
   "metadata": {}
  },
  {
   "source": [
    "---"
   ],
   "cell_type": "markdown",
   "metadata": {}
  },
  {
   "source": [
    "# The data"
   ],
   "cell_type": "markdown",
   "metadata": {}
  },
  {
   "cell_type": "code",
   "execution_count": 9,
   "metadata": {},
   "outputs": [],
   "source": [
    "opened_ios = open('AppleStore.csv', encoding ='utf8')\n",
    "opened_playstore = open('GooglePlayStore.csv', encoding ='utf8')\n",
    "from csv import reader\n",
    "read_ios = reader(opened_ios)\n",
    "read_playstore = reader(opened_playstore)\n",
    "ios_data = list(read_ios)\n",
    "playstore_data = list(read_playstore)"
   ]
  },
  {
   "source": [
    "## A Sample of the data\n",
    "\n",
    "This is a sample of the data available.\n",
    "\n",
    "I will print the header and first five rows of data. "
   ],
   "cell_type": "markdown",
   "metadata": {}
  },
  {
   "cell_type": "code",
   "execution_count": 10,
   "metadata": {},
   "outputs": [],
   "source": [
    "def explore_data(dataset, start, end, rows_and_columns=False):\n",
    "\n",
    "# This function allows us to print multiple rows of a list with line breaks between them\n",
    "    dataset_slice = dataset[start:end]    \n",
    "    for row in dataset_slice:\n",
    "        print(row)\n",
    "        print('\\n') # adds a new (empty) line between rows\n",
    "        \n",
    "    if rows_and_columns:\n",
    "        print('Number of rows:', len(dataset))\n",
    "        print('Number of columns:', len(dataset[0]))"
   ]
  },
  {
   "cell_type": "code",
   "execution_count": 11,
   "metadata": {},
   "outputs": [
    {
     "output_type": "stream",
     "name": "stdout",
     "text": [
      "Sample of App store data set\n\n\n['id', 'track_name', 'size_bytes', 'currency', 'price', 'rating_count_tot', 'rating_count_ver', 'user_rating', 'user_rating_ver', 'ver', 'cont_rating', 'prime_genre', 'sup_devices.num', 'ipadSc_urls.num', 'lang.num', 'vpp_lic']\n\n\n['284882215', 'Facebook', '389879808', 'USD', '0.0', '2974676', '212', '3.5', '3.5', '95.0', '4+', 'Social Networking', '37', '1', '29', '1']\n\n\n['389801252', 'Instagram', '113954816', 'USD', '0.0', '2161558', '1289', '4.5', '4.0', '10.23', '12+', 'Photo & Video', '37', '0', '29', '1']\n\n\n['529479190', 'Clash of Clans', '116476928', 'USD', '0.0', '2130805', '579', '4.5', '4.5', '9.24.12', '9+', 'Games', '38', '5', '18', '1']\n\n\n['420009108', 'Temple Run', '65921024', 'USD', '0.0', '1724546', '3842', '4.5', '4.0', '1.6.2', '9+', 'Games', '40', '5', '1', '1']\n\n\nSample of Play store data set\n\n\n['App', 'Category', 'Rating', 'Reviews', 'Size', 'Installs', 'Type', 'Price', 'Content Rating', 'Genres', 'Last Updated', 'Current Ver', 'Android Ver']\n\n\n['Photo Editor & Candy Camera & Grid & ScrapBook', 'ART_AND_DESIGN', '4.1', '159', '19M', '10,000+', 'Free', '0', 'Everyone', 'Art & Design', 'January 7, 2018', '1.0.0', '4.0.3 and up']\n\n\n['Coloring book moana', 'ART_AND_DESIGN', '3.9', '967', '14M', '500,000+', 'Free', '0', 'Everyone', 'Art & Design;Pretend Play', 'January 15, 2018', '2.0.0', '4.0.3 and up']\n\n\n['U Launcher Lite – FREE Live Cool Themes, Hide Apps', 'ART_AND_DESIGN', '4.7', '87510', '8.7M', '5,000,000+', 'Free', '0', 'Everyone', 'Art & Design', 'August 1, 2018', '1.2.4', '4.0.3 and up']\n\n\n['Sketch - Draw & Paint', 'ART_AND_DESIGN', '4.5', '215644', '25M', '50,000,000+', 'Free', '0', 'Teen', 'Art & Design', 'June 8, 2018', 'Varies with device', '4.2 and up']\n\n\n"
     ]
    }
   ],
   "source": [
    "print('Sample of App store data set')\n",
    "print('\\n')\n",
    "explore_data(ios_data, 0, 5)\n",
    "\n",
    "print('Sample of Play store data set')\n",
    "print('\\n')\n",
    "explore_data(playstore_data, 0, 5)"
   ]
  },
  {
   "source": [
    "---"
   ],
   "cell_type": "markdown",
   "metadata": {}
  },
  {
   "source": [
    "# Data cleaning\n",
    "\n",
    "In the [discussion board](https://www.kaggle.com/lava18/google-play-store-apps/discussion) for the play store data set user are reporting that there is one error row. \n",
    "\n",
    "The row in questsion is 10473.\n",
    "\n",
    "I am going to print the header row, the row before the row with the error and the suspected row. \n"
   ],
   "cell_type": "markdown",
   "metadata": {}
  },
  {
   "cell_type": "code",
   "execution_count": 12,
   "metadata": {},
   "outputs": [
    {
     "output_type": "stream",
     "name": "stdout",
     "text": [
      "['App', 'Category', 'Rating', 'Reviews', 'Size', 'Installs', 'Type', 'Price', 'Content Rating', 'Genres', 'Last Updated', 'Current Ver', 'Android Ver']\n\n\n['Xposed Wi-Fi-Pwd', 'PERSONALIZATION', '3.5', '1042', '404k', '100,000+', 'Free', '0', 'Everyone', 'Personalization', 'August 5, 2014', '3.0.0', '4.0.3 and up']\n\n\n['Life Made WI-Fi Touchscreen Photo Frame', '1.9', '19', '3.0M', '1,000+', 'Free', '0', 'Everyone', '', 'February 11, 2018', '1.0.19', '4.0 and up']\n"
     ]
    }
   ],
   "source": [
    "print(playstore_data[0])\n",
    "print('\\n')\n",
    "print(playstore_data[10472])\n",
    "print('\\n')\n",
    "print(playstore_data[10473])"
   ]
  },
  {
   "source": [
    "From the above we can see that the rating column reports a rating of 19. This is not a possible rating. Other users have noted that the category column is missing. Hence we will delete this row of data. "
   ],
   "cell_type": "markdown",
   "metadata": {}
  },
  {
   "cell_type": "code",
   "execution_count": 13,
   "metadata": {},
   "outputs": [
    {
     "output_type": "stream",
     "name": "stdout",
     "text": [
      "['Life Made WI-Fi Touchscreen Photo Frame', '1.9', '19', '3.0M', '1,000+', 'Free', '0', 'Everyone', '', 'February 11, 2018', '1.0.19', '4.0 and up']\n['osmino Wi-Fi: free WiFi', 'TOOLS', '4.2', '134203', '4.1M', '10,000,000+', 'Free', '0', 'Everyone', 'Tools', 'August 7, 2018', '6.06.14', '4.4 and up']\n"
     ]
    }
   ],
   "source": [
    "print(playstore_data[10473])\n",
    "if playstore_data[10473][2] == '19':\n",
    "    del playstore_data[10473]\n",
    "    # check if the dataset contains the error. Then delete it. \n",
    "print(playstore_data[10473])"
   ]
  },
  {
   "source": [
    "## Checking for any duplicate data"
   ],
   "cell_type": "markdown",
   "metadata": {}
  },
  {
   "cell_type": "code",
   "execution_count": 14,
   "metadata": {},
   "outputs": [
    {
     "output_type": "stream",
     "name": "stdout",
     "text": [
      "Checking duplicate apps in Apple Data\n",
      "---\n",
      "\n",
      "\n",
      "Number of duplicate apple apps:  0\n",
      "\n",
      "\n",
      "Number of unique apple apps:  7198\n",
      "\n",
      "\n",
      "Checking duplicate apps in Play Store Data\n",
      "---\n",
      "\n",
      "\n",
      "Number of duplicate play store app: 1181\n",
      "\n",
      "\n",
      "Number of unique play store app:  9660\n"
     ]
    }
   ],
   "source": [
    "unique_apple_apps = []\n",
    "unique_play_apps = []\n",
    "duplicate_apple_apps = []\n",
    "duplicate_play_apps = []\n",
    "\n",
    "for app in ios_data:\n",
    "    if app[0] in unique_apple_apps:\n",
    "        duplicate_apple_apps.append(app[0])\n",
    "    else:\n",
    "        unique_apple_apps.append(app[0])\n",
    "print('Checking duplicate apps in Apple Data')\n",
    "print('---')\n",
    "print('\\n')\n",
    "print('Number of duplicate apple apps: ', len(duplicate_apple_apps))\n",
    "print('\\n')\n",
    "print('Number of unique apple apps: ', len(unique_apple_apps))\n",
    "print('\\n')\n",
    "\n",
    "for app in playstore_data:\n",
    "    if app[0] in unique_play_apps:\n",
    "        duplicate_play_apps.append(app[0])\n",
    "    else:\n",
    "        unique_play_apps.append(app[0])\n",
    "print('Checking duplicate apps in Play Store Data')\n",
    "print('---')\n",
    "print('\\n')\n",
    "print('Number of duplicate play store app:', len(duplicate_play_apps))\n",
    "print('\\n')\n",
    "print('Number of unique play store app: ', len(unique_play_apps))\n"
   ]
  },
  {
   "source": [
    "# Criterion for removing duplicate data\n",
    "\n",
    "When assessing the data there are multiple data points that seem unique (Last Updated, Current Version), but with some apps these unique data points don't give us what we need. In some cases there are multiple versions all with the same Last Updated date and where current version is \"Varies with Device\". \n",
    "\n",
    "For this reason I have decided to only keep the set that has the highest number of reviews. "
   ],
   "cell_type": "markdown",
   "metadata": {}
  },
  {
   "source": [
    "## Establishing what data is truly unique\n",
    "\n",
    "We will be following  amount steps:\n",
    "\n",
    "1. We will create a dictionary to store the unique apps\n",
    "2. We will compare that with the data from the android apps. \n",
    "3. We will then create a clean version of the android apps data set\n"
   ],
   "cell_type": "markdown",
   "metadata": {}
  },
  {
   "source": [
    "**Dictionary to store unique apps**"
   ],
   "cell_type": "markdown",
   "metadata": {}
  },
  {
   "cell_type": "code",
   "execution_count": 15,
   "metadata": {},
   "outputs": [],
   "source": [
    "check_reviews = {}\n",
    "\n",
    "for app in playstore_data[1:]:\n",
    "    if app[0] in check_reviews and check_reviews[app[0]] < float(app[3]):\n",
    "    # if the app is already in check reviews and the amount of reviews listed as the value is smaller than the value update the value. \n",
    "        check_reviews[app[0]] = float(app[3])\n",
    "    elif app[0] not in check_reviews:\n",
    "    # else, if the app is already in check reviews add the app to check reviews. \n",
    "        check_reviews[app[0]] = float(app[3])\n"
   ]
  },
  {
   "source": [
    "**Compare and store clean data**"
   ],
   "cell_type": "markdown",
   "metadata": {}
  },
  {
   "cell_type": "code",
   "execution_count": 23,
   "metadata": {},
   "outputs": [],
   "source": [
    "playstore_data_cleaned = []\n",
    "duplicate_values = []\n",
    "\n",
    "for app in playstore_data[1:]:\n",
    "    if float(app[3]) == check_reviews[app[0]] and app[0] not in duplicate_values:\n",
    "    # check if the review count is in our cleaned dictionnary and the app is not in duplicate values. Then add then create a new list of list\n",
    "        playstore_data_cleaned.append(app)\n",
    "        duplicate_values.append(app[0])"
   ]
  },
  {
   "cell_type": "code",
   "execution_count": null,
   "metadata": {},
   "outputs": [],
   "source": []
  }
 ]
}